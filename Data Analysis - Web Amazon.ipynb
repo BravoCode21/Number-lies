{
 "cells": [
  {
   "cell_type": "markdown",
   "id": "21a47eec",
   "metadata": {},
   "source": [
    "## Analyzing Amazon Data\n",
    "Figured out the total amount of money you’ve spent on Amazon, ever.\n",
    "\n",
    "Found your most and least expensive orders, and your average and median order totals.\n",
    "\n",
    "Figured out how much you’ve paid in taxes, and your effective sales tax rate on Amazon.\n",
    "\n",
    "Visualized your spending habits day-by-day in a bar graph.\n",
    "\n",
    "Customized some elements of the bar graph, like size and colors."
   ]
  },
  {
   "cell_type": "code",
   "execution_count": 12,
   "id": "917ec427",
   "metadata": {
    "scrolled": true
   },
   "outputs": [
    {
     "name": "stdout",
     "output_type": "stream",
     "text": [
      "Requirement already satisfied: requests in c:\\users\\gideon\\anaconda3\\lib\\site-packages (2.25.1)\n",
      "Requirement already satisfied: chardet<5,>=3.0.2 in c:\\users\\gideon\\anaconda3\\lib\\site-packages (from requests) (4.0.0)\n",
      "Requirement already satisfied: idna<3,>=2.5 in c:\\users\\gideon\\anaconda3\\lib\\site-packages (from requests) (2.10)\n",
      "Requirement already satisfied: urllib3<1.27,>=1.21.1 in c:\\users\\gideon\\anaconda3\\lib\\site-packages (from requests) (1.26.4)\n",
      "Requirement already satisfied: certifi>=2017.4.17 in c:\\users\\gideon\\anaconda3\\lib\\site-packages (from requests) (2020.12.5)\n",
      "Note: you may need to restart the kernel to use updated packages.\n"
     ]
    }
   ],
   "source": [
    "pip install requests"
   ]
  },
  {
   "cell_type": "code",
   "execution_count": 15,
   "id": "5ed9dbbe",
   "metadata": {
    "scrolled": true
   },
   "outputs": [],
   "source": [
    "import requests as req\n",
    "\n"
   ]
  },
  {
   "cell_type": "code",
   "execution_count": 17,
   "id": "9e395dfa",
   "metadata": {},
   "outputs": [],
   "source": [
    "with req.get('https://www.dataquest.io/wp-content/uploads/2019/09/amazon-orders.csv') as rq:\n",
    "    \n",
    "    with open('my_csv.csv1','wb') as file:\n",
    "        file.write(rq.content)"
   ]
  },
  {
   "cell_type": "markdown",
   "id": "4da64b4e",
   "metadata": {},
   "source": [
    "#We’ll be using pandas for most of our analysis, so our first step will be to import the pandas package and give it the nickname pd so that we can refer to it more easily in our code.\n"
   ]
  },
  {
   "cell_type": "code",
   "execution_count": null,
   "id": "0167e9a5",
   "metadata": {},
   "outputs": [],
   "source": [
    "import pandas as pd"
   ]
  },
  {
   "cell_type": "code",
   "execution_count": 19,
   "id": "ecce871f",
   "metadata": {},
   "outputs": [],
   "source": [
    "#create a new variable called df, short for DataFrame, and then tell pandas to store our Amazon data in in that variable\n",
    "\n",
    "df = pd.read_csv('my_csv.csv')\n"
   ]
  },
  {
   "cell_type": "code",
   "execution_count": 20,
   "id": "d8e8d771",
   "metadata": {},
   "outputs": [
    {
     "data": {
      "text/html": [
       "<div>\n",
       "<style scoped>\n",
       "    .dataframe tbody tr th:only-of-type {\n",
       "        vertical-align: middle;\n",
       "    }\n",
       "\n",
       "    .dataframe tbody tr th {\n",
       "        vertical-align: top;\n",
       "    }\n",
       "\n",
       "    .dataframe thead th {\n",
       "        text-align: right;\n",
       "    }\n",
       "</style>\n",
       "<table border=\"1\" class=\"dataframe\">\n",
       "  <thead>\n",
       "    <tr style=\"text-align: right;\">\n",
       "      <th></th>\n",
       "      <th>Order Date</th>\n",
       "      <th>Order ID</th>\n",
       "      <th>Payment Instrument Type</th>\n",
       "      <th>Website</th>\n",
       "      <th>Purchase Order Number</th>\n",
       "      <th>Ordering Customer Email</th>\n",
       "      <th>Shipment Date</th>\n",
       "      <th>Shipping Address Name</th>\n",
       "      <th>Shipping Address Street 1</th>\n",
       "      <th>Shipping Address Street 2</th>\n",
       "      <th>...</th>\n",
       "      <th>Order Status</th>\n",
       "      <th>Carrier Name &amp; Tracking Number</th>\n",
       "      <th>Subtotal</th>\n",
       "      <th>Shipping Charge</th>\n",
       "      <th>Tax Before Promotions</th>\n",
       "      <th>Total Promotions</th>\n",
       "      <th>Tax Charged</th>\n",
       "      <th>Total Charged</th>\n",
       "      <th>Buyer Name</th>\n",
       "      <th>Group Name</th>\n",
       "    </tr>\n",
       "  </thead>\n",
       "  <tbody>\n",
       "    <tr>\n",
       "      <th>0</th>\n",
       "      <td>04/01/19</td>\n",
       "      <td>112-0000000-0000001</td>\n",
       "      <td>Visa - 0001</td>\n",
       "      <td>Amazon.com</td>\n",
       "      <td>NaN</td>\n",
       "      <td>your_email@gmail.com</td>\n",
       "      <td>04/01/19</td>\n",
       "      <td>Your Name</td>\n",
       "      <td>1 YOUR STREET</td>\n",
       "      <td>NaN</td>\n",
       "      <td>...</td>\n",
       "      <td>Shipped</td>\n",
       "      <td>USPS(0001)</td>\n",
       "      <td>$35.00</td>\n",
       "      <td>$0.00</td>\n",
       "      <td>$1.93</td>\n",
       "      <td>$0.00</td>\n",
       "      <td>$1.93</td>\n",
       "      <td>$36.93</td>\n",
       "      <td>Your Name</td>\n",
       "      <td>NaN</td>\n",
       "    </tr>\n",
       "    <tr>\n",
       "      <th>1</th>\n",
       "      <td>04/01/19</td>\n",
       "      <td>112-0000000-0000002</td>\n",
       "      <td>Visa - 0001</td>\n",
       "      <td>Amazon.com</td>\n",
       "      <td>NaN</td>\n",
       "      <td>your_email@gmail.com</td>\n",
       "      <td>04/01/19</td>\n",
       "      <td>Your Name</td>\n",
       "      <td>1 YOUR STREET</td>\n",
       "      <td>NaN</td>\n",
       "      <td>...</td>\n",
       "      <td>Shipped</td>\n",
       "      <td>USPS(0001)</td>\n",
       "      <td>$16.99</td>\n",
       "      <td>$0.00</td>\n",
       "      <td>$0.00</td>\n",
       "      <td>$0.00</td>\n",
       "      <td>$0.00</td>\n",
       "      <td>$16.99</td>\n",
       "      <td>Your Name</td>\n",
       "      <td>NaN</td>\n",
       "    </tr>\n",
       "    <tr>\n",
       "      <th>2</th>\n",
       "      <td>04/01/19</td>\n",
       "      <td>112-0000000-0000003</td>\n",
       "      <td>Visa - 0001</td>\n",
       "      <td>Amazon.com</td>\n",
       "      <td>NaN</td>\n",
       "      <td>your_email@gmail.com</td>\n",
       "      <td>04/01/19</td>\n",
       "      <td>Your Name</td>\n",
       "      <td>1 YOUR STREET</td>\n",
       "      <td>NaN</td>\n",
       "      <td>...</td>\n",
       "      <td>Shipped</td>\n",
       "      <td>USPS(0001)</td>\n",
       "      <td>$9.99</td>\n",
       "      <td>$0.00</td>\n",
       "      <td>$0.00</td>\n",
       "      <td>$0.00</td>\n",
       "      <td>$0.00</td>\n",
       "      <td>$9.99</td>\n",
       "      <td>Your Name</td>\n",
       "      <td>NaN</td>\n",
       "    </tr>\n",
       "    <tr>\n",
       "      <th>3</th>\n",
       "      <td>04/04/19</td>\n",
       "      <td>112-0000000-0000004</td>\n",
       "      <td>Visa - 0001</td>\n",
       "      <td>Amazon.com</td>\n",
       "      <td>NaN</td>\n",
       "      <td>your_email@gmail.com</td>\n",
       "      <td>04/05/19</td>\n",
       "      <td>Your Name</td>\n",
       "      <td>1 YOUR STREET</td>\n",
       "      <td>NaN</td>\n",
       "      <td>...</td>\n",
       "      <td>Shipped</td>\n",
       "      <td>UPS(0002)</td>\n",
       "      <td>$147.98</td>\n",
       "      <td>$0.00</td>\n",
       "      <td>$8.14</td>\n",
       "      <td>$0.00</td>\n",
       "      <td>$8.14</td>\n",
       "      <td>$156.12</td>\n",
       "      <td>Your Name</td>\n",
       "      <td>NaN</td>\n",
       "    </tr>\n",
       "    <tr>\n",
       "      <th>4</th>\n",
       "      <td>04/05/19</td>\n",
       "      <td>112-0000000-0000005</td>\n",
       "      <td>Visa - 0001</td>\n",
       "      <td>Amazon.com</td>\n",
       "      <td>NaN</td>\n",
       "      <td>your_email@gmail.com</td>\n",
       "      <td>04/07/19</td>\n",
       "      <td>Your Name</td>\n",
       "      <td>1 YOUR STREET</td>\n",
       "      <td>NaN</td>\n",
       "      <td>...</td>\n",
       "      <td>Shipped</td>\n",
       "      <td>USPS(0001)</td>\n",
       "      <td>$14.99</td>\n",
       "      <td>$0.00</td>\n",
       "      <td>$0.00</td>\n",
       "      <td>$0.00</td>\n",
       "      <td>$0.00</td>\n",
       "      <td>$14.99</td>\n",
       "      <td>Your Name</td>\n",
       "      <td>NaN</td>\n",
       "    </tr>\n",
       "  </tbody>\n",
       "</table>\n",
       "<p>5 rows × 23 columns</p>\n",
       "</div>"
      ],
      "text/plain": [
       "  Order Date             Order ID Payment Instrument Type     Website  \\\n",
       "0   04/01/19  112-0000000-0000001             Visa - 0001  Amazon.com   \n",
       "1   04/01/19  112-0000000-0000002             Visa - 0001  Amazon.com   \n",
       "2   04/01/19  112-0000000-0000003             Visa - 0001  Amazon.com   \n",
       "3   04/04/19  112-0000000-0000004             Visa - 0001  Amazon.com   \n",
       "4   04/05/19  112-0000000-0000005             Visa - 0001  Amazon.com   \n",
       "\n",
       "   Purchase Order Number Ordering Customer Email Shipment Date  \\\n",
       "0                    NaN    your_email@gmail.com      04/01/19   \n",
       "1                    NaN    your_email@gmail.com      04/01/19   \n",
       "2                    NaN    your_email@gmail.com      04/01/19   \n",
       "3                    NaN    your_email@gmail.com      04/05/19   \n",
       "4                    NaN    your_email@gmail.com      04/07/19   \n",
       "\n",
       "  Shipping Address Name Shipping Address Street 1  Shipping Address Street 2  \\\n",
       "0             Your Name             1 YOUR STREET                        NaN   \n",
       "1             Your Name             1 YOUR STREET                        NaN   \n",
       "2             Your Name             1 YOUR STREET                        NaN   \n",
       "3             Your Name             1 YOUR STREET                        NaN   \n",
       "4             Your Name             1 YOUR STREET                        NaN   \n",
       "\n",
       "   ... Order Status Carrier Name & Tracking Number Subtotal Shipping Charge  \\\n",
       "0  ...      Shipped                     USPS(0001)   $35.00           $0.00   \n",
       "1  ...      Shipped                     USPS(0001)   $16.99           $0.00   \n",
       "2  ...      Shipped                     USPS(0001)    $9.99           $0.00   \n",
       "3  ...      Shipped                      UPS(0002)  $147.98           $0.00   \n",
       "4  ...      Shipped                     USPS(0001)   $14.99           $0.00   \n",
       "\n",
       "  Tax Before Promotions Total Promotions Tax Charged Total Charged Buyer Name  \\\n",
       "0                 $1.93            $0.00       $1.93        $36.93  Your Name   \n",
       "1                 $0.00            $0.00       $0.00        $16.99  Your Name   \n",
       "2                 $0.00            $0.00       $0.00         $9.99  Your Name   \n",
       "3                 $8.14            $0.00       $8.14       $156.12  Your Name   \n",
       "4                 $0.00            $0.00       $0.00        $14.99  Your Name   \n",
       "\n",
       "  Group Name  \n",
       "0        NaN  \n",
       "1        NaN  \n",
       "2        NaN  \n",
       "3        NaN  \n",
       "4        NaN  \n",
       "\n",
       "[5 rows x 23 columns]"
      ]
     },
     "execution_count": 20,
     "metadata": {},
     "output_type": "execute_result"
    }
   ],
   "source": [
    "#pandas function called .head() to look at the first five rows our our data, which will give us a taste of what we’re working with, and what kinds of data Amazon’s order history includes.\n",
    "df.head()"
   ]
  },
  {
   "cell_type": "code",
   "execution_count": 21,
   "id": "b940d1c1",
   "metadata": {},
   "outputs": [
    {
     "data": {
      "text/plain": [
       "(59, 23)"
      ]
     },
     "execution_count": 21,
     "metadata": {},
     "output_type": "execute_result"
    }
   ],
   "source": [
    "#we want to get a readout of the full size of our data set, we can use df.shape. This gives us the dimensions of our DataFrame\n",
    "df.shape"
   ]
  },
  {
   "cell_type": "markdown",
   "id": "ae1894e3",
   "metadata": {},
   "source": [
    "## Cleaning the Data"
   ]
  },
  {
   "cell_type": "code",
   "execution_count": 22,
   "id": "29f60387",
   "metadata": {},
   "outputs": [
    {
     "data": {
      "text/html": [
       "<div>\n",
       "<style scoped>\n",
       "    .dataframe tbody tr th:only-of-type {\n",
       "        vertical-align: middle;\n",
       "    }\n",
       "\n",
       "    .dataframe tbody tr th {\n",
       "        vertical-align: top;\n",
       "    }\n",
       "\n",
       "    .dataframe thead th {\n",
       "        text-align: right;\n",
       "    }\n",
       "</style>\n",
       "<table border=\"1\" class=\"dataframe\">\n",
       "  <thead>\n",
       "    <tr style=\"text-align: right;\">\n",
       "      <th></th>\n",
       "      <th>Order Date</th>\n",
       "      <th>Order ID</th>\n",
       "      <th>Payment Instrument Type</th>\n",
       "      <th>Website</th>\n",
       "      <th>Purchase Order Number</th>\n",
       "      <th>Ordering Customer Email</th>\n",
       "      <th>Shipment Date</th>\n",
       "      <th>Shipping Address Name</th>\n",
       "      <th>Shipping Address Street 1</th>\n",
       "      <th>Shipping Address Street 2</th>\n",
       "      <th>...</th>\n",
       "      <th>Order Status</th>\n",
       "      <th>Carrier Name &amp; Tracking Number</th>\n",
       "      <th>Subtotal</th>\n",
       "      <th>Shipping Charge</th>\n",
       "      <th>Tax Before Promotions</th>\n",
       "      <th>Total Promotions</th>\n",
       "      <th>Tax Charged</th>\n",
       "      <th>Total Charged</th>\n",
       "      <th>Buyer Name</th>\n",
       "      <th>Group Name</th>\n",
       "    </tr>\n",
       "  </thead>\n",
       "  <tbody>\n",
       "    <tr>\n",
       "      <th>0</th>\n",
       "      <td>04/01/19</td>\n",
       "      <td>112-0000000-0000001</td>\n",
       "      <td>Visa - 0001</td>\n",
       "      <td>Amazon.com</td>\n",
       "      <td>0.0</td>\n",
       "      <td>your_email@gmail.com</td>\n",
       "      <td>04/01/19</td>\n",
       "      <td>Your Name</td>\n",
       "      <td>1 YOUR STREET</td>\n",
       "      <td>0.0</td>\n",
       "      <td>...</td>\n",
       "      <td>Shipped</td>\n",
       "      <td>USPS(0001)</td>\n",
       "      <td>$35.00</td>\n",
       "      <td>$0.00</td>\n",
       "      <td>$1.93</td>\n",
       "      <td>$0.00</td>\n",
       "      <td>$1.93</td>\n",
       "      <td>$36.93</td>\n",
       "      <td>Your Name</td>\n",
       "      <td>0.0</td>\n",
       "    </tr>\n",
       "    <tr>\n",
       "      <th>1</th>\n",
       "      <td>04/01/19</td>\n",
       "      <td>112-0000000-0000002</td>\n",
       "      <td>Visa - 0001</td>\n",
       "      <td>Amazon.com</td>\n",
       "      <td>0.0</td>\n",
       "      <td>your_email@gmail.com</td>\n",
       "      <td>04/01/19</td>\n",
       "      <td>Your Name</td>\n",
       "      <td>1 YOUR STREET</td>\n",
       "      <td>0.0</td>\n",
       "      <td>...</td>\n",
       "      <td>Shipped</td>\n",
       "      <td>USPS(0001)</td>\n",
       "      <td>$16.99</td>\n",
       "      <td>$0.00</td>\n",
       "      <td>$0.00</td>\n",
       "      <td>$0.00</td>\n",
       "      <td>$0.00</td>\n",
       "      <td>$16.99</td>\n",
       "      <td>Your Name</td>\n",
       "      <td>0.0</td>\n",
       "    </tr>\n",
       "    <tr>\n",
       "      <th>2</th>\n",
       "      <td>04/01/19</td>\n",
       "      <td>112-0000000-0000003</td>\n",
       "      <td>Visa - 0001</td>\n",
       "      <td>Amazon.com</td>\n",
       "      <td>0.0</td>\n",
       "      <td>your_email@gmail.com</td>\n",
       "      <td>04/01/19</td>\n",
       "      <td>Your Name</td>\n",
       "      <td>1 YOUR STREET</td>\n",
       "      <td>0.0</td>\n",
       "      <td>...</td>\n",
       "      <td>Shipped</td>\n",
       "      <td>USPS(0001)</td>\n",
       "      <td>$9.99</td>\n",
       "      <td>$0.00</td>\n",
       "      <td>$0.00</td>\n",
       "      <td>$0.00</td>\n",
       "      <td>$0.00</td>\n",
       "      <td>$9.99</td>\n",
       "      <td>Your Name</td>\n",
       "      <td>0.0</td>\n",
       "    </tr>\n",
       "    <tr>\n",
       "      <th>3</th>\n",
       "      <td>04/04/19</td>\n",
       "      <td>112-0000000-0000004</td>\n",
       "      <td>Visa - 0001</td>\n",
       "      <td>Amazon.com</td>\n",
       "      <td>0.0</td>\n",
       "      <td>your_email@gmail.com</td>\n",
       "      <td>04/05/19</td>\n",
       "      <td>Your Name</td>\n",
       "      <td>1 YOUR STREET</td>\n",
       "      <td>0.0</td>\n",
       "      <td>...</td>\n",
       "      <td>Shipped</td>\n",
       "      <td>UPS(0002)</td>\n",
       "      <td>$147.98</td>\n",
       "      <td>$0.00</td>\n",
       "      <td>$8.14</td>\n",
       "      <td>$0.00</td>\n",
       "      <td>$8.14</td>\n",
       "      <td>$156.12</td>\n",
       "      <td>Your Name</td>\n",
       "      <td>0.0</td>\n",
       "    </tr>\n",
       "    <tr>\n",
       "      <th>4</th>\n",
       "      <td>04/05/19</td>\n",
       "      <td>112-0000000-0000005</td>\n",
       "      <td>Visa - 0001</td>\n",
       "      <td>Amazon.com</td>\n",
       "      <td>0.0</td>\n",
       "      <td>your_email@gmail.com</td>\n",
       "      <td>04/07/19</td>\n",
       "      <td>Your Name</td>\n",
       "      <td>1 YOUR STREET</td>\n",
       "      <td>0.0</td>\n",
       "      <td>...</td>\n",
       "      <td>Shipped</td>\n",
       "      <td>USPS(0001)</td>\n",
       "      <td>$14.99</td>\n",
       "      <td>$0.00</td>\n",
       "      <td>$0.00</td>\n",
       "      <td>$0.00</td>\n",
       "      <td>$0.00</td>\n",
       "      <td>$14.99</td>\n",
       "      <td>Your Name</td>\n",
       "      <td>0.0</td>\n",
       "    </tr>\n",
       "  </tbody>\n",
       "</table>\n",
       "<p>5 rows × 23 columns</p>\n",
       "</div>"
      ],
      "text/plain": [
       "  Order Date             Order ID Payment Instrument Type     Website  \\\n",
       "0   04/01/19  112-0000000-0000001             Visa - 0001  Amazon.com   \n",
       "1   04/01/19  112-0000000-0000002             Visa - 0001  Amazon.com   \n",
       "2   04/01/19  112-0000000-0000003             Visa - 0001  Amazon.com   \n",
       "3   04/04/19  112-0000000-0000004             Visa - 0001  Amazon.com   \n",
       "4   04/05/19  112-0000000-0000005             Visa - 0001  Amazon.com   \n",
       "\n",
       "   Purchase Order Number Ordering Customer Email Shipment Date  \\\n",
       "0                    0.0    your_email@gmail.com      04/01/19   \n",
       "1                    0.0    your_email@gmail.com      04/01/19   \n",
       "2                    0.0    your_email@gmail.com      04/01/19   \n",
       "3                    0.0    your_email@gmail.com      04/05/19   \n",
       "4                    0.0    your_email@gmail.com      04/07/19   \n",
       "\n",
       "  Shipping Address Name Shipping Address Street 1  Shipping Address Street 2  \\\n",
       "0             Your Name             1 YOUR STREET                        0.0   \n",
       "1             Your Name             1 YOUR STREET                        0.0   \n",
       "2             Your Name             1 YOUR STREET                        0.0   \n",
       "3             Your Name             1 YOUR STREET                        0.0   \n",
       "4             Your Name             1 YOUR STREET                        0.0   \n",
       "\n",
       "   ... Order Status Carrier Name & Tracking Number Subtotal Shipping Charge  \\\n",
       "0  ...      Shipped                     USPS(0001)   $35.00           $0.00   \n",
       "1  ...      Shipped                     USPS(0001)   $16.99           $0.00   \n",
       "2  ...      Shipped                     USPS(0001)    $9.99           $0.00   \n",
       "3  ...      Shipped                      UPS(0002)  $147.98           $0.00   \n",
       "4  ...      Shipped                     USPS(0001)   $14.99           $0.00   \n",
       "\n",
       "  Tax Before Promotions Total Promotions Tax Charged Total Charged Buyer Name  \\\n",
       "0                 $1.93            $0.00       $1.93        $36.93  Your Name   \n",
       "1                 $0.00            $0.00       $0.00        $16.99  Your Name   \n",
       "2                 $0.00            $0.00       $0.00         $9.99  Your Name   \n",
       "3                 $8.14            $0.00       $8.14       $156.12  Your Name   \n",
       "4                 $0.00            $0.00       $0.00        $14.99  Your Name   \n",
       "\n",
       "  Group Name  \n",
       "0        0.0  \n",
       "1        0.0  \n",
       "2        0.0  \n",
       "3        0.0  \n",
       "4        0.0  \n",
       "\n",
       "[5 rows x 23 columns]"
      ]
     },
     "execution_count": 22,
     "metadata": {},
     "output_type": "execute_result"
    }
   ],
   "source": [
    "\n",
    "#we’ll need to do a little bit of data cleaning here before we can do our analysis and find out the total sum we’ve spent on Amazon.\n",
    "#We don’t just want to replace those values temporarily! We want to replace them and then store that version of the DataFrame as our new DataFrame.\n",
    "\n",
    "df= df.fillna(0) #to replace the values and re-define our df variable to point to that new dataframe.\n",
    "df.head()"
   ]
  },
  {
   "cell_type": "code",
   "execution_count": 25,
   "id": "d7b95ec8",
   "metadata": {},
   "outputs": [
    {
     "name": "stderr",
     "output_type": "stream",
     "text": [
      "<ipython-input-25-6581cf1641d8>:3: FutureWarning: The default value of regex will change from True to False in a future version. In addition, single character regular expressions will*not* be treated as literal strings when regex=True.\n",
      "  df['Total Charged'] = df['Total Charged'].str.replace('$','').astype(float)\n"
     ]
    },
    {
     "data": {
      "text/html": [
       "<div>\n",
       "<style scoped>\n",
       "    .dataframe tbody tr th:only-of-type {\n",
       "        vertical-align: middle;\n",
       "    }\n",
       "\n",
       "    .dataframe tbody tr th {\n",
       "        vertical-align: top;\n",
       "    }\n",
       "\n",
       "    .dataframe thead th {\n",
       "        text-align: right;\n",
       "    }\n",
       "</style>\n",
       "<table border=\"1\" class=\"dataframe\">\n",
       "  <thead>\n",
       "    <tr style=\"text-align: right;\">\n",
       "      <th></th>\n",
       "      <th>Order Date</th>\n",
       "      <th>Order ID</th>\n",
       "      <th>Payment Instrument Type</th>\n",
       "      <th>Website</th>\n",
       "      <th>Purchase Order Number</th>\n",
       "      <th>Ordering Customer Email</th>\n",
       "      <th>Shipment Date</th>\n",
       "      <th>Shipping Address Name</th>\n",
       "      <th>Shipping Address Street 1</th>\n",
       "      <th>Shipping Address Street 2</th>\n",
       "      <th>...</th>\n",
       "      <th>Order Status</th>\n",
       "      <th>Carrier Name &amp; Tracking Number</th>\n",
       "      <th>Subtotal</th>\n",
       "      <th>Shipping Charge</th>\n",
       "      <th>Tax Before Promotions</th>\n",
       "      <th>Total Promotions</th>\n",
       "      <th>Tax Charged</th>\n",
       "      <th>Total Charged</th>\n",
       "      <th>Buyer Name</th>\n",
       "      <th>Group Name</th>\n",
       "    </tr>\n",
       "  </thead>\n",
       "  <tbody>\n",
       "    <tr>\n",
       "      <th>0</th>\n",
       "      <td>04/01/19</td>\n",
       "      <td>112-0000000-0000001</td>\n",
       "      <td>Visa - 0001</td>\n",
       "      <td>Amazon.com</td>\n",
       "      <td>0.0</td>\n",
       "      <td>your_email@gmail.com</td>\n",
       "      <td>04/01/19</td>\n",
       "      <td>Your Name</td>\n",
       "      <td>1 YOUR STREET</td>\n",
       "      <td>0.0</td>\n",
       "      <td>...</td>\n",
       "      <td>Shipped</td>\n",
       "      <td>USPS(0001)</td>\n",
       "      <td>$35.00</td>\n",
       "      <td>$0.00</td>\n",
       "      <td>$1.93</td>\n",
       "      <td>$0.00</td>\n",
       "      <td>$1.93</td>\n",
       "      <td>36.93</td>\n",
       "      <td>Your Name</td>\n",
       "      <td>0.0</td>\n",
       "    </tr>\n",
       "    <tr>\n",
       "      <th>1</th>\n",
       "      <td>04/01/19</td>\n",
       "      <td>112-0000000-0000002</td>\n",
       "      <td>Visa - 0001</td>\n",
       "      <td>Amazon.com</td>\n",
       "      <td>0.0</td>\n",
       "      <td>your_email@gmail.com</td>\n",
       "      <td>04/01/19</td>\n",
       "      <td>Your Name</td>\n",
       "      <td>1 YOUR STREET</td>\n",
       "      <td>0.0</td>\n",
       "      <td>...</td>\n",
       "      <td>Shipped</td>\n",
       "      <td>USPS(0001)</td>\n",
       "      <td>$16.99</td>\n",
       "      <td>$0.00</td>\n",
       "      <td>$0.00</td>\n",
       "      <td>$0.00</td>\n",
       "      <td>$0.00</td>\n",
       "      <td>16.99</td>\n",
       "      <td>Your Name</td>\n",
       "      <td>0.0</td>\n",
       "    </tr>\n",
       "    <tr>\n",
       "      <th>2</th>\n",
       "      <td>04/01/19</td>\n",
       "      <td>112-0000000-0000003</td>\n",
       "      <td>Visa - 0001</td>\n",
       "      <td>Amazon.com</td>\n",
       "      <td>0.0</td>\n",
       "      <td>your_email@gmail.com</td>\n",
       "      <td>04/01/19</td>\n",
       "      <td>Your Name</td>\n",
       "      <td>1 YOUR STREET</td>\n",
       "      <td>0.0</td>\n",
       "      <td>...</td>\n",
       "      <td>Shipped</td>\n",
       "      <td>USPS(0001)</td>\n",
       "      <td>$9.99</td>\n",
       "      <td>$0.00</td>\n",
       "      <td>$0.00</td>\n",
       "      <td>$0.00</td>\n",
       "      <td>$0.00</td>\n",
       "      <td>9.99</td>\n",
       "      <td>Your Name</td>\n",
       "      <td>0.0</td>\n",
       "    </tr>\n",
       "    <tr>\n",
       "      <th>3</th>\n",
       "      <td>04/04/19</td>\n",
       "      <td>112-0000000-0000004</td>\n",
       "      <td>Visa - 0001</td>\n",
       "      <td>Amazon.com</td>\n",
       "      <td>0.0</td>\n",
       "      <td>your_email@gmail.com</td>\n",
       "      <td>04/05/19</td>\n",
       "      <td>Your Name</td>\n",
       "      <td>1 YOUR STREET</td>\n",
       "      <td>0.0</td>\n",
       "      <td>...</td>\n",
       "      <td>Shipped</td>\n",
       "      <td>UPS(0002)</td>\n",
       "      <td>$147.98</td>\n",
       "      <td>$0.00</td>\n",
       "      <td>$8.14</td>\n",
       "      <td>$0.00</td>\n",
       "      <td>$8.14</td>\n",
       "      <td>156.12</td>\n",
       "      <td>Your Name</td>\n",
       "      <td>0.0</td>\n",
       "    </tr>\n",
       "    <tr>\n",
       "      <th>4</th>\n",
       "      <td>04/05/19</td>\n",
       "      <td>112-0000000-0000005</td>\n",
       "      <td>Visa - 0001</td>\n",
       "      <td>Amazon.com</td>\n",
       "      <td>0.0</td>\n",
       "      <td>your_email@gmail.com</td>\n",
       "      <td>04/07/19</td>\n",
       "      <td>Your Name</td>\n",
       "      <td>1 YOUR STREET</td>\n",
       "      <td>0.0</td>\n",
       "      <td>...</td>\n",
       "      <td>Shipped</td>\n",
       "      <td>USPS(0001)</td>\n",
       "      <td>$14.99</td>\n",
       "      <td>$0.00</td>\n",
       "      <td>$0.00</td>\n",
       "      <td>$0.00</td>\n",
       "      <td>$0.00</td>\n",
       "      <td>14.99</td>\n",
       "      <td>Your Name</td>\n",
       "      <td>0.0</td>\n",
       "    </tr>\n",
       "  </tbody>\n",
       "</table>\n",
       "<p>5 rows × 23 columns</p>\n",
       "</div>"
      ],
      "text/plain": [
       "  Order Date             Order ID Payment Instrument Type     Website  \\\n",
       "0   04/01/19  112-0000000-0000001             Visa - 0001  Amazon.com   \n",
       "1   04/01/19  112-0000000-0000002             Visa - 0001  Amazon.com   \n",
       "2   04/01/19  112-0000000-0000003             Visa - 0001  Amazon.com   \n",
       "3   04/04/19  112-0000000-0000004             Visa - 0001  Amazon.com   \n",
       "4   04/05/19  112-0000000-0000005             Visa - 0001  Amazon.com   \n",
       "\n",
       "   Purchase Order Number Ordering Customer Email Shipment Date  \\\n",
       "0                    0.0    your_email@gmail.com      04/01/19   \n",
       "1                    0.0    your_email@gmail.com      04/01/19   \n",
       "2                    0.0    your_email@gmail.com      04/01/19   \n",
       "3                    0.0    your_email@gmail.com      04/05/19   \n",
       "4                    0.0    your_email@gmail.com      04/07/19   \n",
       "\n",
       "  Shipping Address Name Shipping Address Street 1  Shipping Address Street 2  \\\n",
       "0             Your Name             1 YOUR STREET                        0.0   \n",
       "1             Your Name             1 YOUR STREET                        0.0   \n",
       "2             Your Name             1 YOUR STREET                        0.0   \n",
       "3             Your Name             1 YOUR STREET                        0.0   \n",
       "4             Your Name             1 YOUR STREET                        0.0   \n",
       "\n",
       "   ... Order Status Carrier Name & Tracking Number Subtotal Shipping Charge  \\\n",
       "0  ...      Shipped                     USPS(0001)   $35.00           $0.00   \n",
       "1  ...      Shipped                     USPS(0001)   $16.99           $0.00   \n",
       "2  ...      Shipped                     USPS(0001)    $9.99           $0.00   \n",
       "3  ...      Shipped                      UPS(0002)  $147.98           $0.00   \n",
       "4  ...      Shipped                     USPS(0001)   $14.99           $0.00   \n",
       "\n",
       "  Tax Before Promotions Total Promotions Tax Charged Total Charged Buyer Name  \\\n",
       "0                 $1.93            $0.00       $1.93         36.93  Your Name   \n",
       "1                 $0.00            $0.00       $0.00         16.99  Your Name   \n",
       "2                 $0.00            $0.00       $0.00          9.99  Your Name   \n",
       "3                 $8.14            $0.00       $8.14        156.12  Your Name   \n",
       "4                 $0.00            $0.00       $0.00         14.99  Your Name   \n",
       "\n",
       "  Group Name  \n",
       "0        0.0  \n",
       "1        0.0  \n",
       "2        0.0  \n",
       "3        0.0  \n",
       "4        0.0  \n",
       "\n",
       "[5 rows x 23 columns]"
      ]
     },
     "execution_count": 25,
     "metadata": {},
     "output_type": "execute_result"
    }
   ],
   "source": [
    "#The prices in this data set have been stored as strings, which means the computer is seeing them as a series of characters, \n",
    "#rather than numbers that it can add together. They also include the character $, which isn’t a number.\n",
    "df['Total Charged'] = df['Total Charged'].str.replace('$','').astype(float)\n",
    "df.head()\n"
   ]
  },
  {
   "cell_type": "markdown",
   "id": "a3803ddb",
   "metadata": {},
   "source": [
    "## Data Analysis"
   ]
  },
  {
   "cell_type": "code",
   "execution_count": 26,
   "id": "a9c8419a",
   "metadata": {},
   "outputs": [
    {
     "data": {
      "text/plain": [
       "1777.7300000000002"
      ]
     },
     "execution_count": 26,
     "metadata": {},
     "output_type": "execute_result"
    }
   ],
   "source": [
    "df['Total Charged'].sum()"
   ]
  },
  {
   "cell_type": "code",
   "execution_count": null,
   "id": "121cc398",
   "metadata": {},
   "outputs": [],
   "source": [
    "# Calculating Other Things: Average Spend on Amazon, Biggest Purchase, Etc."
   ]
  },
  {
   "cell_type": "code",
   "execution_count": 27,
   "id": "15f23f35",
   "metadata": {},
   "outputs": [
    {
     "data": {
      "text/plain": [
       "30.131016949152542"
      ]
     },
     "execution_count": 27,
     "metadata": {},
     "output_type": "execute_result"
    }
   ],
   "source": [
    "df['Total Charged'].mean()"
   ]
  },
  {
   "cell_type": "code",
   "execution_count": 28,
   "id": "b9b699f4",
   "metadata": {},
   "outputs": [
    {
     "data": {
      "text/plain": [
       "15.95"
      ]
     },
     "execution_count": 28,
     "metadata": {},
     "output_type": "execute_result"
    }
   ],
   "source": [
    "df['Total Charged'].median()"
   ]
  },
  {
   "cell_type": "code",
   "execution_count": 29,
   "id": "d90d4937",
   "metadata": {},
   "outputs": [
    {
     "data": {
      "text/plain": [
       "210.99"
      ]
     },
     "execution_count": 29,
     "metadata": {},
     "output_type": "execute_result"
    }
   ],
   "source": [
    "df['Total Charged'].max()"
   ]
  },
  {
   "cell_type": "code",
   "execution_count": 30,
   "id": "17cc8259",
   "metadata": {},
   "outputs": [
    {
     "data": {
      "text/plain": [
       "1.04"
      ]
     },
     "execution_count": 30,
     "metadata": {},
     "output_type": "execute_result"
    }
   ],
   "source": [
    "df['Total Charged'].min()"
   ]
  },
  {
   "cell_type": "code",
   "execution_count": null,
   "id": "b4073997",
   "metadata": {},
   "outputs": [],
   "source": [
    "#How Much Have I Paid in Sales Tax?"
   ]
  },
  {
   "cell_type": "code",
   "execution_count": 32,
   "id": "14d8d383",
   "metadata": {},
   "outputs": [
    {
     "name": "stderr",
     "output_type": "stream",
     "text": [
      "<ipython-input-32-bcb2fba04cc1>:1: FutureWarning: The default value of regex will change from True to False in a future version. In addition, single character regular expressions will*not* be treated as literal strings when regex=True.\n",
      "  df[\"Tax Charged\"]=df[\"Tax Charged\"].str.replace('$','').astype(float)\n"
     ]
    },
    {
     "data": {
      "text/html": [
       "<div>\n",
       "<style scoped>\n",
       "    .dataframe tbody tr th:only-of-type {\n",
       "        vertical-align: middle;\n",
       "    }\n",
       "\n",
       "    .dataframe tbody tr th {\n",
       "        vertical-align: top;\n",
       "    }\n",
       "\n",
       "    .dataframe thead th {\n",
       "        text-align: right;\n",
       "    }\n",
       "</style>\n",
       "<table border=\"1\" class=\"dataframe\">\n",
       "  <thead>\n",
       "    <tr style=\"text-align: right;\">\n",
       "      <th></th>\n",
       "      <th>Order Date</th>\n",
       "      <th>Order ID</th>\n",
       "      <th>Payment Instrument Type</th>\n",
       "      <th>Website</th>\n",
       "      <th>Purchase Order Number</th>\n",
       "      <th>Ordering Customer Email</th>\n",
       "      <th>Shipment Date</th>\n",
       "      <th>Shipping Address Name</th>\n",
       "      <th>Shipping Address Street 1</th>\n",
       "      <th>Shipping Address Street 2</th>\n",
       "      <th>...</th>\n",
       "      <th>Order Status</th>\n",
       "      <th>Carrier Name &amp; Tracking Number</th>\n",
       "      <th>Subtotal</th>\n",
       "      <th>Shipping Charge</th>\n",
       "      <th>Tax Before Promotions</th>\n",
       "      <th>Total Promotions</th>\n",
       "      <th>Tax Charged</th>\n",
       "      <th>Total Charged</th>\n",
       "      <th>Buyer Name</th>\n",
       "      <th>Group Name</th>\n",
       "    </tr>\n",
       "  </thead>\n",
       "  <tbody>\n",
       "    <tr>\n",
       "      <th>0</th>\n",
       "      <td>04/01/19</td>\n",
       "      <td>112-0000000-0000001</td>\n",
       "      <td>Visa - 0001</td>\n",
       "      <td>Amazon.com</td>\n",
       "      <td>0.0</td>\n",
       "      <td>your_email@gmail.com</td>\n",
       "      <td>04/01/19</td>\n",
       "      <td>Your Name</td>\n",
       "      <td>1 YOUR STREET</td>\n",
       "      <td>0.0</td>\n",
       "      <td>...</td>\n",
       "      <td>Shipped</td>\n",
       "      <td>USPS(0001)</td>\n",
       "      <td>$35.00</td>\n",
       "      <td>$0.00</td>\n",
       "      <td>$1.93</td>\n",
       "      <td>$0.00</td>\n",
       "      <td>1.93</td>\n",
       "      <td>36.93</td>\n",
       "      <td>Your Name</td>\n",
       "      <td>0.0</td>\n",
       "    </tr>\n",
       "    <tr>\n",
       "      <th>1</th>\n",
       "      <td>04/01/19</td>\n",
       "      <td>112-0000000-0000002</td>\n",
       "      <td>Visa - 0001</td>\n",
       "      <td>Amazon.com</td>\n",
       "      <td>0.0</td>\n",
       "      <td>your_email@gmail.com</td>\n",
       "      <td>04/01/19</td>\n",
       "      <td>Your Name</td>\n",
       "      <td>1 YOUR STREET</td>\n",
       "      <td>0.0</td>\n",
       "      <td>...</td>\n",
       "      <td>Shipped</td>\n",
       "      <td>USPS(0001)</td>\n",
       "      <td>$16.99</td>\n",
       "      <td>$0.00</td>\n",
       "      <td>$0.00</td>\n",
       "      <td>$0.00</td>\n",
       "      <td>0.00</td>\n",
       "      <td>16.99</td>\n",
       "      <td>Your Name</td>\n",
       "      <td>0.0</td>\n",
       "    </tr>\n",
       "    <tr>\n",
       "      <th>2</th>\n",
       "      <td>04/01/19</td>\n",
       "      <td>112-0000000-0000003</td>\n",
       "      <td>Visa - 0001</td>\n",
       "      <td>Amazon.com</td>\n",
       "      <td>0.0</td>\n",
       "      <td>your_email@gmail.com</td>\n",
       "      <td>04/01/19</td>\n",
       "      <td>Your Name</td>\n",
       "      <td>1 YOUR STREET</td>\n",
       "      <td>0.0</td>\n",
       "      <td>...</td>\n",
       "      <td>Shipped</td>\n",
       "      <td>USPS(0001)</td>\n",
       "      <td>$9.99</td>\n",
       "      <td>$0.00</td>\n",
       "      <td>$0.00</td>\n",
       "      <td>$0.00</td>\n",
       "      <td>0.00</td>\n",
       "      <td>9.99</td>\n",
       "      <td>Your Name</td>\n",
       "      <td>0.0</td>\n",
       "    </tr>\n",
       "    <tr>\n",
       "      <th>3</th>\n",
       "      <td>04/04/19</td>\n",
       "      <td>112-0000000-0000004</td>\n",
       "      <td>Visa - 0001</td>\n",
       "      <td>Amazon.com</td>\n",
       "      <td>0.0</td>\n",
       "      <td>your_email@gmail.com</td>\n",
       "      <td>04/05/19</td>\n",
       "      <td>Your Name</td>\n",
       "      <td>1 YOUR STREET</td>\n",
       "      <td>0.0</td>\n",
       "      <td>...</td>\n",
       "      <td>Shipped</td>\n",
       "      <td>UPS(0002)</td>\n",
       "      <td>$147.98</td>\n",
       "      <td>$0.00</td>\n",
       "      <td>$8.14</td>\n",
       "      <td>$0.00</td>\n",
       "      <td>8.14</td>\n",
       "      <td>156.12</td>\n",
       "      <td>Your Name</td>\n",
       "      <td>0.0</td>\n",
       "    </tr>\n",
       "    <tr>\n",
       "      <th>4</th>\n",
       "      <td>04/05/19</td>\n",
       "      <td>112-0000000-0000005</td>\n",
       "      <td>Visa - 0001</td>\n",
       "      <td>Amazon.com</td>\n",
       "      <td>0.0</td>\n",
       "      <td>your_email@gmail.com</td>\n",
       "      <td>04/07/19</td>\n",
       "      <td>Your Name</td>\n",
       "      <td>1 YOUR STREET</td>\n",
       "      <td>0.0</td>\n",
       "      <td>...</td>\n",
       "      <td>Shipped</td>\n",
       "      <td>USPS(0001)</td>\n",
       "      <td>$14.99</td>\n",
       "      <td>$0.00</td>\n",
       "      <td>$0.00</td>\n",
       "      <td>$0.00</td>\n",
       "      <td>0.00</td>\n",
       "      <td>14.99</td>\n",
       "      <td>Your Name</td>\n",
       "      <td>0.0</td>\n",
       "    </tr>\n",
       "  </tbody>\n",
       "</table>\n",
       "<p>5 rows × 23 columns</p>\n",
       "</div>"
      ],
      "text/plain": [
       "  Order Date             Order ID Payment Instrument Type     Website  \\\n",
       "0   04/01/19  112-0000000-0000001             Visa - 0001  Amazon.com   \n",
       "1   04/01/19  112-0000000-0000002             Visa - 0001  Amazon.com   \n",
       "2   04/01/19  112-0000000-0000003             Visa - 0001  Amazon.com   \n",
       "3   04/04/19  112-0000000-0000004             Visa - 0001  Amazon.com   \n",
       "4   04/05/19  112-0000000-0000005             Visa - 0001  Amazon.com   \n",
       "\n",
       "   Purchase Order Number Ordering Customer Email Shipment Date  \\\n",
       "0                    0.0    your_email@gmail.com      04/01/19   \n",
       "1                    0.0    your_email@gmail.com      04/01/19   \n",
       "2                    0.0    your_email@gmail.com      04/01/19   \n",
       "3                    0.0    your_email@gmail.com      04/05/19   \n",
       "4                    0.0    your_email@gmail.com      04/07/19   \n",
       "\n",
       "  Shipping Address Name Shipping Address Street 1  Shipping Address Street 2  \\\n",
       "0             Your Name             1 YOUR STREET                        0.0   \n",
       "1             Your Name             1 YOUR STREET                        0.0   \n",
       "2             Your Name             1 YOUR STREET                        0.0   \n",
       "3             Your Name             1 YOUR STREET                        0.0   \n",
       "4             Your Name             1 YOUR STREET                        0.0   \n",
       "\n",
       "   ... Order Status Carrier Name & Tracking Number Subtotal Shipping Charge  \\\n",
       "0  ...      Shipped                     USPS(0001)   $35.00           $0.00   \n",
       "1  ...      Shipped                     USPS(0001)   $16.99           $0.00   \n",
       "2  ...      Shipped                     USPS(0001)    $9.99           $0.00   \n",
       "3  ...      Shipped                      UPS(0002)  $147.98           $0.00   \n",
       "4  ...      Shipped                     USPS(0001)   $14.99           $0.00   \n",
       "\n",
       "  Tax Before Promotions Total Promotions Tax Charged Total Charged Buyer Name  \\\n",
       "0                 $1.93            $0.00        1.93         36.93  Your Name   \n",
       "1                 $0.00            $0.00        0.00         16.99  Your Name   \n",
       "2                 $0.00            $0.00        0.00          9.99  Your Name   \n",
       "3                 $8.14            $0.00        8.14        156.12  Your Name   \n",
       "4                 $0.00            $0.00        0.00         14.99  Your Name   \n",
       "\n",
       "   Group Name  \n",
       "0         0.0  \n",
       "1         0.0  \n",
       "2         0.0  \n",
       "3         0.0  \n",
       "4         0.0  \n",
       "\n",
       "[5 rows x 23 columns]"
      ]
     },
     "execution_count": 32,
     "metadata": {},
     "output_type": "execute_result"
    }
   ],
   "source": [
    "df[\"Tax Charged\"]=df[\"Tax Charged\"].str.replace('$','').astype(float)\n",
    "df.head()"
   ]
  },
  {
   "cell_type": "code",
   "execution_count": 33,
   "id": "0bde9a25",
   "metadata": {},
   "outputs": [
    {
     "data": {
      "text/plain": [
       "52.60999999999999"
      ]
     },
     "execution_count": 33,
     "metadata": {},
     "output_type": "execute_result"
    }
   ],
   "source": [
    "#total sum of taxes\n",
    "df[\"Tax Charged\"].sum()"
   ]
  },
  {
   "cell_type": "code",
   "execution_count": 34,
   "id": "c4c3476a",
   "metadata": {},
   "outputs": [
    {
     "data": {
      "text/plain": [
       "0.8916949152542372"
      ]
     },
     "execution_count": 34,
     "metadata": {},
     "output_type": "execute_result"
    }
   ],
   "source": [
    "#mean of taxes\n",
    "df[\"Tax Charged\"].mean()"
   ]
  },
  {
   "cell_type": "code",
   "execution_count": 35,
   "id": "0d43b0d1",
   "metadata": {},
   "outputs": [
    {
     "data": {
      "text/plain": [
       "11.0"
      ]
     },
     "execution_count": 35,
     "metadata": {},
     "output_type": "execute_result"
    }
   ],
   "source": [
    "#max taxes paid\n",
    "df[\"Tax Charged\"].max()"
   ]
  },
  {
   "cell_type": "code",
   "execution_count": 36,
   "id": "15ba01d8",
   "metadata": {},
   "outputs": [
    {
     "data": {
      "text/plain": [
       "0.0"
      ]
     },
     "execution_count": 36,
     "metadata": {},
     "output_type": "execute_result"
    }
   ],
   "source": [
    "#min taxes\n",
    "df[\"Tax Charged\"].min()"
   ]
  },
  {
   "cell_type": "code",
   "execution_count": 37,
   "id": "c34df37f",
   "metadata": {},
   "outputs": [
    {
     "data": {
      "text/plain": [
       "0.0"
      ]
     },
     "execution_count": 37,
     "metadata": {},
     "output_type": "execute_result"
    }
   ],
   "source": [
    "#median taxes\n",
    "df[\"Tax Charged\"].median()"
   ]
  },
  {
   "cell_type": "markdown",
   "id": "da663a1c",
   "metadata": {},
   "source": [
    "# Analyzing Amazon Spending Over Time"
   ]
  },
  {
   "cell_type": "code",
   "execution_count": 41,
   "id": "e28add99",
   "metadata": {},
   "outputs": [
    {
     "data": {
      "text/html": [
       "<div>\n",
       "<style scoped>\n",
       "    .dataframe tbody tr th:only-of-type {\n",
       "        vertical-align: middle;\n",
       "    }\n",
       "\n",
       "    .dataframe tbody tr th {\n",
       "        vertical-align: top;\n",
       "    }\n",
       "\n",
       "    .dataframe thead th {\n",
       "        text-align: right;\n",
       "    }\n",
       "</style>\n",
       "<table border=\"1\" class=\"dataframe\">\n",
       "  <thead>\n",
       "    <tr style=\"text-align: right;\">\n",
       "      <th></th>\n",
       "      <th>Order Date</th>\n",
       "      <th>Order ID</th>\n",
       "      <th>Payment Instrument Type</th>\n",
       "      <th>Website</th>\n",
       "      <th>Purchase Order Number</th>\n",
       "      <th>Ordering Customer Email</th>\n",
       "      <th>Shipment Date</th>\n",
       "      <th>Shipping Address Name</th>\n",
       "      <th>Shipping Address Street 1</th>\n",
       "      <th>Shipping Address Street 2</th>\n",
       "      <th>...</th>\n",
       "      <th>Order Status</th>\n",
       "      <th>Carrier Name &amp; Tracking Number</th>\n",
       "      <th>Subtotal</th>\n",
       "      <th>Shipping Charge</th>\n",
       "      <th>Tax Before Promotions</th>\n",
       "      <th>Total Promotions</th>\n",
       "      <th>Tax Charged</th>\n",
       "      <th>Total Charged</th>\n",
       "      <th>Buyer Name</th>\n",
       "      <th>Group Name</th>\n",
       "    </tr>\n",
       "  </thead>\n",
       "  <tbody>\n",
       "    <tr>\n",
       "      <th>0</th>\n",
       "      <td>2019-04-01</td>\n",
       "      <td>112-0000000-0000001</td>\n",
       "      <td>Visa - 0001</td>\n",
       "      <td>Amazon.com</td>\n",
       "      <td>0.0</td>\n",
       "      <td>your_email@gmail.com</td>\n",
       "      <td>04/01/19</td>\n",
       "      <td>Your Name</td>\n",
       "      <td>1 YOUR STREET</td>\n",
       "      <td>0.0</td>\n",
       "      <td>...</td>\n",
       "      <td>Shipped</td>\n",
       "      <td>USPS(0001)</td>\n",
       "      <td>$35.00</td>\n",
       "      <td>$0.00</td>\n",
       "      <td>$1.93</td>\n",
       "      <td>$0.00</td>\n",
       "      <td>1.93</td>\n",
       "      <td>36.93</td>\n",
       "      <td>Your Name</td>\n",
       "      <td>0.0</td>\n",
       "    </tr>\n",
       "    <tr>\n",
       "      <th>1</th>\n",
       "      <td>2019-04-01</td>\n",
       "      <td>112-0000000-0000002</td>\n",
       "      <td>Visa - 0001</td>\n",
       "      <td>Amazon.com</td>\n",
       "      <td>0.0</td>\n",
       "      <td>your_email@gmail.com</td>\n",
       "      <td>04/01/19</td>\n",
       "      <td>Your Name</td>\n",
       "      <td>1 YOUR STREET</td>\n",
       "      <td>0.0</td>\n",
       "      <td>...</td>\n",
       "      <td>Shipped</td>\n",
       "      <td>USPS(0001)</td>\n",
       "      <td>$16.99</td>\n",
       "      <td>$0.00</td>\n",
       "      <td>$0.00</td>\n",
       "      <td>$0.00</td>\n",
       "      <td>0.00</td>\n",
       "      <td>16.99</td>\n",
       "      <td>Your Name</td>\n",
       "      <td>0.0</td>\n",
       "    </tr>\n",
       "    <tr>\n",
       "      <th>2</th>\n",
       "      <td>2019-04-01</td>\n",
       "      <td>112-0000000-0000003</td>\n",
       "      <td>Visa - 0001</td>\n",
       "      <td>Amazon.com</td>\n",
       "      <td>0.0</td>\n",
       "      <td>your_email@gmail.com</td>\n",
       "      <td>04/01/19</td>\n",
       "      <td>Your Name</td>\n",
       "      <td>1 YOUR STREET</td>\n",
       "      <td>0.0</td>\n",
       "      <td>...</td>\n",
       "      <td>Shipped</td>\n",
       "      <td>USPS(0001)</td>\n",
       "      <td>$9.99</td>\n",
       "      <td>$0.00</td>\n",
       "      <td>$0.00</td>\n",
       "      <td>$0.00</td>\n",
       "      <td>0.00</td>\n",
       "      <td>9.99</td>\n",
       "      <td>Your Name</td>\n",
       "      <td>0.0</td>\n",
       "    </tr>\n",
       "    <tr>\n",
       "      <th>3</th>\n",
       "      <td>2019-04-04</td>\n",
       "      <td>112-0000000-0000004</td>\n",
       "      <td>Visa - 0001</td>\n",
       "      <td>Amazon.com</td>\n",
       "      <td>0.0</td>\n",
       "      <td>your_email@gmail.com</td>\n",
       "      <td>04/05/19</td>\n",
       "      <td>Your Name</td>\n",
       "      <td>1 YOUR STREET</td>\n",
       "      <td>0.0</td>\n",
       "      <td>...</td>\n",
       "      <td>Shipped</td>\n",
       "      <td>UPS(0002)</td>\n",
       "      <td>$147.98</td>\n",
       "      <td>$0.00</td>\n",
       "      <td>$8.14</td>\n",
       "      <td>$0.00</td>\n",
       "      <td>8.14</td>\n",
       "      <td>156.12</td>\n",
       "      <td>Your Name</td>\n",
       "      <td>0.0</td>\n",
       "    </tr>\n",
       "    <tr>\n",
       "      <th>4</th>\n",
       "      <td>2019-04-05</td>\n",
       "      <td>112-0000000-0000005</td>\n",
       "      <td>Visa - 0001</td>\n",
       "      <td>Amazon.com</td>\n",
       "      <td>0.0</td>\n",
       "      <td>your_email@gmail.com</td>\n",
       "      <td>04/07/19</td>\n",
       "      <td>Your Name</td>\n",
       "      <td>1 YOUR STREET</td>\n",
       "      <td>0.0</td>\n",
       "      <td>...</td>\n",
       "      <td>Shipped</td>\n",
       "      <td>USPS(0001)</td>\n",
       "      <td>$14.99</td>\n",
       "      <td>$0.00</td>\n",
       "      <td>$0.00</td>\n",
       "      <td>$0.00</td>\n",
       "      <td>0.00</td>\n",
       "      <td>14.99</td>\n",
       "      <td>Your Name</td>\n",
       "      <td>0.0</td>\n",
       "    </tr>\n",
       "  </tbody>\n",
       "</table>\n",
       "<p>5 rows × 23 columns</p>\n",
       "</div>"
      ],
      "text/plain": [
       "  Order Date             Order ID Payment Instrument Type     Website  \\\n",
       "0 2019-04-01  112-0000000-0000001             Visa - 0001  Amazon.com   \n",
       "1 2019-04-01  112-0000000-0000002             Visa - 0001  Amazon.com   \n",
       "2 2019-04-01  112-0000000-0000003             Visa - 0001  Amazon.com   \n",
       "3 2019-04-04  112-0000000-0000004             Visa - 0001  Amazon.com   \n",
       "4 2019-04-05  112-0000000-0000005             Visa - 0001  Amazon.com   \n",
       "\n",
       "   Purchase Order Number Ordering Customer Email Shipment Date  \\\n",
       "0                    0.0    your_email@gmail.com      04/01/19   \n",
       "1                    0.0    your_email@gmail.com      04/01/19   \n",
       "2                    0.0    your_email@gmail.com      04/01/19   \n",
       "3                    0.0    your_email@gmail.com      04/05/19   \n",
       "4                    0.0    your_email@gmail.com      04/07/19   \n",
       "\n",
       "  Shipping Address Name Shipping Address Street 1  Shipping Address Street 2  \\\n",
       "0             Your Name             1 YOUR STREET                        0.0   \n",
       "1             Your Name             1 YOUR STREET                        0.0   \n",
       "2             Your Name             1 YOUR STREET                        0.0   \n",
       "3             Your Name             1 YOUR STREET                        0.0   \n",
       "4             Your Name             1 YOUR STREET                        0.0   \n",
       "\n",
       "   ... Order Status Carrier Name & Tracking Number Subtotal Shipping Charge  \\\n",
       "0  ...      Shipped                     USPS(0001)   $35.00           $0.00   \n",
       "1  ...      Shipped                     USPS(0001)   $16.99           $0.00   \n",
       "2  ...      Shipped                     USPS(0001)    $9.99           $0.00   \n",
       "3  ...      Shipped                      UPS(0002)  $147.98           $0.00   \n",
       "4  ...      Shipped                     USPS(0001)   $14.99           $0.00   \n",
       "\n",
       "  Tax Before Promotions Total Promotions Tax Charged Total Charged Buyer Name  \\\n",
       "0                 $1.93            $0.00        1.93         36.93  Your Name   \n",
       "1                 $0.00            $0.00        0.00         16.99  Your Name   \n",
       "2                 $0.00            $0.00        0.00          9.99  Your Name   \n",
       "3                 $8.14            $0.00        8.14        156.12  Your Name   \n",
       "4                 $0.00            $0.00        0.00         14.99  Your Name   \n",
       "\n",
       "   Group Name  \n",
       "0         0.0  \n",
       "1         0.0  \n",
       "2         0.0  \n",
       "3         0.0  \n",
       "4         0.0  \n",
       "\n",
       "[5 rows x 23 columns]"
      ]
     },
     "execution_count": 41,
     "metadata": {},
     "output_type": "execute_result"
    }
   ],
   "source": [
    "# we need to convert them to a datetime data type, so that the computer can recognize them as dates\n",
    "#We can use .pd.to_datetime() and specify the column we want to modify within those brackets to tell pandas to read that column as dates.\n",
    "df['Order Date']= pd.to_datetime(df['Order Date'])\n",
    "df.head()"
   ]
  },
  {
   "cell_type": "markdown",
   "id": "59800661",
   "metadata": {},
   "source": [
    "# Data Visualization"
   ]
  },
  {
   "cell_type": "code",
   "execution_count": 42,
   "id": "f86d6caa",
   "metadata": {
    "scrolled": true
   },
   "outputs": [
    {
     "name": "stderr",
     "output_type": "stream",
     "text": [
      "Matplotlib is building the font cache; this may take a moment.\n"
     ]
    }
   ],
   "source": [
    "%matplotlib inline"
   ]
  },
  {
   "cell_type": "code",
   "execution_count": 47,
   "id": "553efd53",
   "metadata": {},
   "outputs": [
    {
     "data": {
      "text/plain": [
       "<AxesSubplot:xlabel='Order Date'>"
      ]
     },
     "execution_count": 47,
     "metadata": {},
     "output_type": "execute_result"
    },
    {
     "data": {
      "image/png": "[encoded data removed]",
      "text/plain": [
       "<Figure size 2160x720 with 1 Axes>"
      ]
     },
     "metadata": {
      "needs_background": "light"
     },
     "output_type": "display_data"
    }
   ],
   "source": [
    "#can make a basic bar graph in a pretty straightforward way using df.plot.bar().\n",
    "\n",
    "df.plot.bar(x='Order Date',y='Total Charged', figsize=(30,10))"
   ]
  },
  {
   "cell_type": "code",
   "execution_count": 49,
   "id": "9884398c",
   "metadata": {},
   "outputs": [
    {
     "data": {
      "text/plain": [
       "Order Date\n",
       "2019-04-01     63.91\n",
       "2019-04-04    156.12\n",
       "2019-04-05     27.64\n",
       "2019-04-07     40.63\n",
       "2019-04-08     44.99\n",
       "Name: Total Charged, dtype: float64"
      ]
     },
     "execution_count": 49,
     "metadata": {},
     "output_type": "execute_result"
    }
   ],
   "source": [
    "#We want to group our data by 'Order Date', so that all the orders that share the same date are counted in a single row (i.e., we want one row for April 1, rather than three). 2. We want to get the sum of the prices paid in 'Total Charged' column for each date and make it the value for 'Total Charged'\n",
    "daily_orders=df.groupby('Order Date').sum()['Total Charged']\n",
    "daily_orders.head()"
   ]
  },
  {
   "cell_type": "code",
   "execution_count": 50,
   "id": "8280f2b1",
   "metadata": {},
   "outputs": [
    {
     "data": {
      "text/plain": [
       "<AxesSubplot:xlabel='Order Date'>"
      ]
     },
     "execution_count": 50,
     "metadata": {},
     "output_type": "execute_result"
    },
    {
     "data": {
      "image/png": "[encoded data removed]",
      "text/plain": [
       "<Figure size 1440x720 with 1 Axes>"
      ]
     },
     "metadata": {
      "needs_background": "light"
     },
     "output_type": "display_data"
    }
   ],
   "source": [
    "daily_orders.plot.bar(figsize=(20,10))"
   ]
  },
  {
   "cell_type": "code",
   "execution_count": null,
   "id": "6f72b32b",
   "metadata": {},
   "outputs": [],
   "source": []
  }
 ],
 "metadata": {
  "kernelspec": {
   "display_name": "Python 3",
   "language": "python",
   "name": "python3"
  },
  "language_info": {
   "codemirror_mode": {
    "name": "ipython",
    "version": 3
   },
   "file_extension": ".py",
   "mimetype": "text/x-python",
   "name": "python",
   "nbconvert_exporter": "python",
   "pygments_lexer": "ipython3",
   "version": "3.8.8"
  }
 },
 "nbformat": 4,
 "nbformat_minor": 5
}
